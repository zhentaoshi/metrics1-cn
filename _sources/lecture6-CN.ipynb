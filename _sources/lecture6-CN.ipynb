{
 "cells": [
  {
   "cell_type": "markdown",
   "id": "d4b70b84",
   "metadata": {},
   "source": [
    "# 最小二乘法:渐近性质"
   ]
  },
  {
   "cell_type": "markdown",
   "id": "fd3ee4eb",
   "metadata": {},
   "source": [
    "在先前的章节中，我们已经学习了一些基本的渐近理论。通过这些结论，我们可以研究OLS统计量 $\\widehat{\\beta}=\\left(X'X\\right)^{-1}X'Y$ 的各种渐近性质。 这是本次课程的重点,在本章节我们将会涉及如下要点：（i） $\\widehat{\\beta}$ 是线性投影系数 $\\beta$ 的相合估计量；（ii）$\\widehat{\\beta}$ 的渐近正态性；（iii） 渐近正态性使我们可以渐近推断 $\\beta$ ；（iiii）在哪些条件下我们能够用可行的检验方法，相合估计检验统计量中的方差分量。"
   ]
  },
  {
   "cell_type": "markdown",
   "id": "d0cfdbad",
   "metadata": {},
   "source": [
    "## 相合性"
   ]
  },
  {
   "cell_type": "markdown",
   "id": "93793f32",
   "metadata": {},
   "source": [
    "在大样本估计中，**相合性**是最基本的要求。从直觉上说，在样本无限大时，一个理想的估计量应该无限趋近于总体的真实值（也就是概率收敛）。如果某个估计量，在无限大的样本中得到的结果仍然与真实值有偏差，那么除非有很可靠的证明推导，否则恐怕没有人想使用这样的估计量。\n",
    "\n",
    "```{admonition} Definition 6.1 相合性\n",
    "对于估计量 $\\widehat{\\theta}$ ，如果满足 $\\widehat{\\theta}\\stackrel{p}{\\to}\\theta$ ，则称 $\\widehat{\\theta}$ 为 $\\theta$ 的**相合估计**，其中 $\\theta$ 是某个非随机常数。\n",
    "```\n",
    "在OLS当中，如果 $n\\to\\infty$ 时 $\\widehat{\\beta}\\stackrel{p}{\\to}\\beta$ ，则称 $\\widehat{\\beta}$ 是**相合的**。其中的 $\\beta$ 是总体模型 $y_{i}=x_{i}'\\beta+e_{i}$ ( $E\\left[x_{i}e_{i}\\right]=0$ ) 的线性映射系数。为了验证**相合性**，我们写出公式：\n",
    "\n",
    "$$\n",
    "\\widehat{\\beta}-\\beta=\\left(X'X\\right)^{-1}X'e=\\left(\\frac{1}{n}\\sum_{i=1}^{n}x_{i}x_{i}'\\right)^{-1}\\frac{1}{n}\\sum_{i=1}^{n}x_{i}e_{i}.\n",
    "$$\n",
    "\n",
    "为了简化理解，在本章节中我们只考虑独立同分布(iid)的情况。通过大数定律(LLN),第一项为:\n",
    "\n",
    "$$\n",
    "\\widehat{Q}:=\\frac{1}{n}\\sum_{i=1}^{n}x_{i}x_{i}'\\stackrel{p}{\\to}Q:=E\\left[x_{i}x_{i}'\\right].\n",
    "$$\n",
    "\n",
    "这里的 $\\widehat{Q}$ 是 $x_{i}x_{i}'$ 的样本均值, $Q$ 则是 $x_{i}x_{i}'$ 的总体均值。\n",
    "\n",
    "同样根据LLN，我们可以得到第二项：\n",
    "\n",
    "$$\n",
    "\\frac{1}{n}\\sum_{i=1}^{n}x_{i}e_{i}\\stackrel{p}{\\to}0.\n",
    "$$\n",
    "\n",
    "连续映射定理就能够推出：\n",
    "\n",
    "$$\n",
    "\\widehat{\\beta}-\\beta\\stackrel{p}{\\to}Q^{-1}\\times0=0.\n",
    "$$\n",
    "\n",
    "从而证明了 $\\widehat{\\beta}$ 是 $\\beta$ 的 相合估计量。\n",
    "\n",
    "```{admonition} Remark 6.1\n",
    "\n",
    "无论 $\\left(y_{i},x_{i}\\right)_{i=1}^{n}$ 是否满足独立同分布，或者相依样本，或独立但不同分布（inid），\n",
    "只要上述的两个表达式满足依概率收敛，同时 $Q$ 是可逆矩阵，$\\widehat{\\beta}$ 就依然满足相合性。\n",
    "```"
   ]
  },
  {
   "cell_type": "markdown",
   "id": "3ea80aa4",
   "metadata": {},
   "source": [
    "## 渐近分布"
   ]
  },
  {
   "cell_type": "markdown",
   "id": "52a07be5",
   "metadata": {},
   "source": [
    "在有限样本中，$\\widehat{\\beta}$ 是随机变量。先前我们已经展示过正态性的 $\\widehat{\\beta}$ 的分布。没有了正态性假设的约束，我们将如何描述OLS估计量的随机性呢？\n",
    "\n",
    "从前面的章节中我们已经了解到 $\\hat{\\beta}-\\beta\\stackrel{p}{\\to}0$ 会归于一个常数。为了研究它们的分布，我们需要用一个合适的乘数将其放大，使得它在极限中既不收敛也不发散。这个合适的比例因子是 $\\sqrt{n}$ ，\n",
    "类似于中心极限定理有: \n",
    "\n",
    "$$\n",
    "\\sqrt{n}\\left(\\widehat{\\beta}-\\beta\\right)=\\left(\\frac{1}{n}\\sum_{i=1}^{n}x_{i}x_{i}'\\right)^{-1}\\frac{1}{\\sqrt{n}}\\sum_{i=1}^{n}x_{i}e_{i}.\n",
    "$$\n",
    "\n",
    "由于 $E\\left[x_{i}e_{i}\\right]=0$ ，我们应用中心极限定理得到：\n",
    "\n",
    "$$\n",
    "\\frac{1}{\\sqrt{n}}\\sum_{i=1}^{n}x_{i}e_{i}\\stackrel{d}{\\to}N\\left(0,\\Sigma\\right)\n",
    "$$\n",
    "\n",
    "其中 $\\Sigma=E\\left[x_{i}x_{i}'e_{i}^{2}\\right]$ 。\n",
    "\n",
    "根据连续映射定理：\n",
    "\n",
    "$$\n",
    "\\sqrt{n}\\left(\\widehat{\\beta}-\\beta\\right)\\stackrel{d}{\\to}Q^{-1}\\times N\\left(0,\\Sigma\\right)\\sim N\\left(0,Q^{-1}\\Sigma Q^{-1}\\right)\n",
    "$$(eq:asym\\_norm)\n",
    "\n",
    "式子右边正态分布的方差被称为**渐进方差**，这里我们记其为$\\Omega$。在条件同方差的情况下，因为\n",
    "\n",
    "$$\n",
    "E\\left[e_{i}^{2}|x_{i}\\right]=\\sigma^{2}\n",
    "$$\n",
    "\n",
    "对于所有的 $i$ 都成立，从而得到:\n",
    "\n",
    "$$\n",
    "\\Sigma=E\\left[x_{i}x_{i}'e_{i}^{2}\\right]=E\\left[x_{i}x_{i}'E\\left[e_{i}^{2}|X\\right]\\right]=\\sigma^{2}E\\left[x_{i}x_{i}'\\right]=\\sigma^{2}Q.\n",
    "$$\n",
    "\n",
    "在这个例子里，$\\Omega=Q^{-1}\\Sigma Q^{-1}=\\sigma^{2}Q^{-1}$ ，可以因此推出：\n",
    "\n",
    "$$\n",
    "\\sqrt{n}\\left(\\widehat{\\beta}-\\beta\\right)\\stackrel{d}{\\to}N\\left(0,\\sigma^{2}Q^{-1}\\right).\n",
    "$$\n"
   ]
  },
  {
   "cell_type": "markdown",
   "id": "d35c1759",
   "metadata": {},
   "source": [
    "```{admonition} Remark 6.2\n",
    "如果我们对 $k$ 阶参数 $\\beta_{k}$ 感兴趣，那么可以从{eq}`eq:asym\\_norm`中的联合分布推导出：\n",
    "\n",
    "$$\n",
    "\\begin{aligned}\n",
    "\\sqrt{n}\\left(\\widehat{\\beta}_{k}-\\beta_{k}\\right) & =\\sqrt{n}\\eta_{k}'\\left(\\widehat{\\beta}-\\beta\\right) \\\\\n",
    " & \\stackrel{d}{\\to}N\\left(0,\\sigma^{2}\\eta_{k}'Q^{-1}\\eta_{k}\\right)\\sim N\\left(0,\\sigma^{2}[Q^{-1}]_{kk}\\right),\n",
    "\\end{aligned}\n",
    "$$(eq:asym\\_norm\\_homok\\_pivot)\n",
    "\n",
    "其中特殊向量 $\\eta_{k}=\\left(0,\\ldots,0,1,0\\ldots,0\\right)'$ 用于挑选 $k$ 阶元素。\n",
    "```\n",
    "```{admonition} Remark 6.3\n",
    "如果在{eq}`eq:asym\\_norm`的两边乘上 $\\Omega^{-1/2}$ ，我们就有：\n",
    "\n",
    "$$\n",
    "\\Omega^{-1/2}\\sqrt{n}\\left(\\widehat{\\beta}-\\beta\\right)\\stackrel{d}{\\to}N\\left(0,I_{K}\\right).\n",
    "$$(eq:asym\\_norm-pivot)\n",
    "\n",
    "因为{eq}`eq:asym\\_norm-pivot`中的渐近分布 $N\\left(0,I_{K}\\right)$ 不涉及任何的未知参数，我们称之为**枢轴量**(pivotal)。\n",
    "相反，因为 $\\Omega$ 在 $N\\left(0,\\Omega\\right)$ 中是未知的，{eq}`eq:asym\\_norm`中的渐近分布不是枢轴量。如果我们想要了解 $\\beta_{k}$ 我们可以将{eq}`eq:asym\\_norm-pivot`以枢轴量的形式写为：\n",
    "\n",
    "$$\n",
    "\\frac{\\sqrt{n}\\left(\\widehat{\\beta}_{k}-\\beta_{k}\\right)}{\\sqrt{\\sigma^{2}[Q^{-1}]_{kk}}}\\stackrel{d}{\\to}N\\left(0,1\\right).\n",
    "$$(eqn:label6)\n",
    "\n",
    "```"
   ]
  },
  {
   "cell_type": "markdown",
   "id": "944b6c1f",
   "metadata": {},
   "source": [
    "## 渐近推断"
   ]
  },
  {
   "cell_type": "markdown",
   "id": "0a91043b",
   "metadata": {},
   "source": [
    "到目前为止，我们已经得到了 $\\widehat{\\beta}$ 的渐近分布。然后，只有当 $\\Omega$ 已知时，{eq}`eq:asym\\_norm` 到 {eq}`eq:asym\\_norm-pivot` 才能派上用场。在现实情况中， $\\Omega$ 通常是未知的，因此需要对其进行估计，才能进行统计推断。\n",
    "假设 $\\tilde{\\Omega}$ 是符合 $\\tilde{\\Omega}\\stackrel{p}{\\to}\\Omega$ 的 $\\Omega$ 相合估计量，我们用$\\tilde{\\Omega}$ 替代{eq}`eq:asym\\_norm-pivot`中的 $\\Omega$ ，\n",
    "得到可行(feasible)统计量 $\\tilde{\\Omega}^{-1/2}\\sqrt{n}\\left(\\widehat{\\beta}-\\beta\\right) $ 。\n",
    "**可行统计量**不带有任何未知参数，可以直接用数据进行计算。该统计量可以被分解为：\n",
    "\n",
    "$$\n",
    "\\begin{aligned}\n",
    "\\tilde{\\Omega}^{-1/2}\\sqrt{n}\\left(\\widehat{\\beta}-\\beta\\right) & =\\tilde{\\Omega}^{-1/2}\\Omega^{1/2}\\times\\Omega^{-1/2}\\sqrt{n}\\left(\\widehat{\\beta}-\\beta\\right).\n",
    "\\end{aligned}\n",
    "$$\n",
    "\n",
    "因为 $\\Omega$ 是正定的，根据连续映射定理我们就会得到第一个因子 $\\tilde{\\Omega}^{-1/2}\\Omega^{1/2}\\stackrel{p}{\\to}I_{K}$ 。依据{eq}`eq:asym\\_norm-pivot` ，第二个因子有渐近正态性，于是通过**Slutsky定理**推出\n",
    "\n",
    "$$\n",
    "\\tilde{\\Omega}^{-1/2}\\sqrt{n}\\left(\\widehat{\\beta}-\\beta\\right)\\stackrel{d}{\\to}N\\left(0,I_{K}\\right)\n",
    "$$(eq:asym\\_norm\\_feasible)\n"
   ]
  },
  {
   "cell_type": "markdown",
   "id": "ca2550fd",
   "metadata": {},
   "source": [
    "接下来的问题是如何相合估计 $\\Omega=Q^{-1}\\Sigma Q^{-1}$ ，或者等同于怎么获得合适的 $\\tilde{\\Omega}$ 。\n",
    "我们之前已经得出 $\\widehat{Q}\\stackrel{p}{\\to}Q$ ，如果也有 $\\Sigma$ 的相合估计量 $\\tilde{\\Sigma}$ ，那么可以将他们带入形成 $\\tilde{\\Omega}=\\widehat{Q}^{-1}\\tilde{\\Sigma}\\widehat{Q}^{-1}$ 。棘手的问题在于如何相合估计$\\Sigma=E\\left[x_{i}x_{i}'e_{i}^{2}\\right]$ 。因为 $e_{i}$ 无法观测，我们不能用样本均值 $x_{i}x_{i}'e_{i}^{2}$ 来进行估计。基于同方差假设：$\\Omega=Q^{-1}\\Sigma Q^{-1}=\\sigma^{2}Q^{-1}$，我们同样不能用 $e_{i}^{2}$ 来估计 $\\sigma^{2}$ 。"
   ]
  },
  {
   "cell_type": "markdown",
   "id": "0acecdde",
   "metadata": {},
   "source": [
    "```{admonition} Remark 6.4\n",
    "如果选用 $\\widehat{e}_{i}=\\widehat{y}_{i}-x_{i}'\\widehat{\\beta}$ 并用其代替 $e_{i}$，那么我们就可以得到同方差的估计量 $\\widehat{\\Omega}=\\widehat{\\sigma}^{2}\\widehat{Q}^{-1}$ \\\n",
    "其中 $\\widehat{\\sigma}^{2}=\\widehat{e}'\\widehat{e}/\\left(n-K\\right)$ 或 \n",
    "$\\widehat{\\sigma}^{2}=\\widehat{e}'\\widehat{e}/n$ \n",
    "\n",
    "如果是异方差，得到的估计量为：$\\widehat{\\Omega}=\\widehat{Q}^{-1}\\widehat{\\Sigma}\\widehat{Q}^{-1}$ 相应地，其中$\\widehat{\\Sigma}=n^{-1}\\sum_{i}x_{i}x_{i}'\\widehat{e}_{i}^{2}$。\n",
    "本讲略去\n",
    "$\\widehat{\\sigma}^{2}\\stackrel{p}{\\to}\\sigma^{2}$ 和 $\\widehat{\\Sigma}\\stackrel{p}{\\to}\\Sigma$ 的推导。\n",
    "\n",
    "如果我们选用 $\\widehat{\\sigma}^{2}=\\widehat{e}'\\widehat{e}/\\left(n-K\\right)$ 然后替换{eq}`eq:asym\\_norm\\_homok\\_pivot`中的 $\\sigma^{2}$ ，那么 $T_{k}=\\frac{\\sqrt{n}\\left(\\widehat{\\beta}_{k}-\\beta_{k}\\right)}{\\sqrt{\\widehat{\\sigma}^{2}[\\widehat{Q}^{-1}]_{kk}}}$ 的结果就等于有限样本估计中的 $t$ 统计量。\n",
    "```"
   ]
  },
  {
   "cell_type": "markdown",
   "id": "37fd15dd",
   "metadata": {},
   "source": [
    "之前我们学过，在经典正态误差的假设中， $t$ 统计量遵循精确有限样本 $t$ 分布，自由度为 $n-K$ 。在渐近分析中，如果$E\\left[e_{i}^{2}|x_{i}\\right]<\\infty$ ，我们允许 $e_{i}$ 服从任何的分布。渐近正态性允许我们进行渐近统计推断。对于 $t$ 统计量，我们必须从正态分布中获得临界值，\n",
    "因为如果 $\\widehat{\\sigma}^{2}\\stackrel{p}{\\to}\\sigma^{2}$ ，根据 Slutsky's Theorem 有：\n",
    "\n",
    "$$\n",
    "T_{k}=\\frac{\\sqrt{\\sigma^{2}[Q^{-1}]_{kk}}}{\\sqrt{\\widehat{\\sigma}^{2}[\\widehat{Q}^{-1}]_{kk}}}\\cdot\\frac{\\sqrt{n}\\left(\\widehat{\\beta}_{k}-\\beta_{k}\\right)}{\\sqrt{\\sigma^{2}[Q^{-1}]_{kk}}}\\stackrel{d}{\\to}1\\times N\\left(0,1\\right)\\sim N\\left(0,1\\right).\n",
    "$$\n"
   ]
  },
  {
   "cell_type": "markdown",
   "id": "0851a077",
   "metadata": {},
   "source": [
    "## 总结"
   ]
  },
  {
   "cell_type": "markdown",
   "id": "3588ad13",
   "metadata": {},
   "source": [
    "不等式是渐近理论中最重要的工具之一。有些推导过程初看起来很复杂，但实际上会经常在各种结论的证明中频繁碰见。多被“折磨”几年，对你来说这种计算就是小菜一碟了。\n",
    "\n",
    "```{admonition} 历史趣闻\n",
    "{cite}white1980heteroskedasticity \n",
    "引起了人们对经济场景中违反经典假设的线性回归的注意。\n",
    "计量经济学家们开始关注统计推断中的方差估计。\n",
    "在接下来的几十年里，涌现出大量方差估计理论，用于处理各种各样偏离经典假设的情形。\n",
    "```\n",
    "\n",
    "```{admonition} 拓展阅读 \n",
    "在本章中，所有的向量的维度都是有限的，如果 $K\\to\\infty$ 的速率比 $n$ 小得多，其中的结论可以被推广到 $K$ 无限的情况。这样的渐近将需要多个指数，并且它超出了我们在这里学到的最简单的 $n\\to\\infty$ 的情况。大数据伴随着复杂的模型，模型往往随着 $n$ 的增加而变得更加复杂。\n",
    "```"
   ]
  },
  {
   "cell_type": "markdown",
   "id": "15264bb7",
   "metadata": {},
   "source": [
    "## 附录"
   ]
  },
  {
   "cell_type": "markdown",
   "id": "e8024a55",
   "metadata": {},
   "source": [
    "我们在这里介绍符号 *big Op and small op* ，它们和随机情况中的 *big O and small o* 相对应。\n",
    "\n",
    "-   Small op: $x_{n}=o_{p}\\left(r_{n}\\right)$ if\n",
    "    $x_{n}/r_{n}\\stackrel{p}{\\to}0$.\n",
    "\n",
    "-   Big Op: $x_{n}=O_{p}\\left(r_{n}\\right)$ if for any $\\varepsilon>0$,\n",
    "    there exists a $c>0$ such that\n",
    "    $P\\left(\\left|x_{n}\\right|/r_{n}>c\\right)<\\varepsilon$.\n",
    "    \n",
    "    一些推导:\n",
    "\n",
    "-   $o_{p}\\left(1\\right)+o_{p}\\left(1\\right)=o_{p}\\left(1\\right)$;\n",
    "\n",
    "-   $o_{p}\\left(1\\right)+O_{p}\\left(1\\right)=O_{p}\\left(1\\right)$;\n",
    "\n",
    "-   $o_{p}\\left(1\\right)O_{p}\\left(1\\right)=o_{p}\\left(1\\right)$.\n",
    "\n",
    "有了 *big Op and small op* ，在表示随机对象的随机顺序时我们就可以继续用等式进行计算。"
   ]
  }
 ],
 "metadata": {
  "kernelspec": {
   "display_name": "Python 3 (ipykernel)",
   "language": "python",
   "name": "python3"
  },
  "language_info": {
   "codemirror_mode": {
    "name": "ipython",
    "version": 3
   },
   "file_extension": ".py",
   "mimetype": "text/x-python",
   "name": "python",
   "nbconvert_exporter": "python",
   "pygments_lexer": "ipython3",
   "version": "3.9.12"
  },
  "vscode": {
   "interpreter": {
    "hash": "98c8651c14c5e67168ec7360df025b52a3dda054aca34605ea6bb4da8d25168e"
   }
  }
 },
 "nbformat": 4,
 "nbformat_minor": 5
}
