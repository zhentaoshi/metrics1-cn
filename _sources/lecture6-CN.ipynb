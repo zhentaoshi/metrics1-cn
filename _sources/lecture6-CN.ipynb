{
 "cells": [
  {
   "cell_type": "markdown",
   "id": "d4b70b84",
   "metadata": {},
   "source": [
    "# 最小二乘法的渐近性质"
   ]
  },
  {
   "cell_type": "markdown",
   "id": "fd3ee4eb",
   "metadata": {},
   "source": [
    "在先前的章节中，我们已经学到了一些基本的渐近理论。我们可以应用这些结论来学习OLS统计量$\\widehat{\\beta}=\\left(X'X\\right)^{-1}X'Y$的各种性质。 这是我们课程中的核心部分。在本章节我们将会展示：（i） $\\widehat{\\beta}$ 是线性投影系数 $\\beta$ 的一致估计量；（ii）$\\widehat{\\beta}$ 满足渐近正态分布；（iii） 渐近正态性使得可以对于 $\\beta$ 有渐近收敛；（iiii）在什么条件假设下我们可以提出一个可行的检验过程，从而对检验统计量中的方差分量作出一致估计。"
   ]
  },
  {
   "cell_type": "markdown",
   "id": "d0cfdbad",
   "metadata": {},
   "source": [
    "## 一致性"
   ]
  },
  {
   "cell_type": "markdown",
   "id": "93793f32",
   "metadata": {},
   "source": [
    "**一致性**是大样本估计中对于估计量最基本的要求。根据我们的直觉，对于一个任意大小的样本量，一个理想的估计量应该尽可能接近（依概率收敛）至真实值。如果有一个估计量，通过无限样本得出的估计以后仍然与真实值存在偏差，那么恐怕也很难说服其他的学者使用这个估计量。\n",
    "\n",
    "不失普遍性，对于估计量 $\\widehat{\\theta}$ ，如果满足 $\\widehat{\\theta}\\stackrel{p}{\\to}\\theta$ ，那么认为 $\\widehat{\\theta}$ 是 $\\theta$ 的**一致估计**，其中 $\\theta$ 是非随机对象。\n",
    "\n",
    "在OLS当中，如果$n\\to\\infty$ 时 $\\widehat{\\beta}\\stackrel{p}{\\to}\\beta$ ，那么我们认为 $\\widehat{\\beta}$ 是**一致的**。其中的 $\\beta$ 是模型 $y_{i}=x_{i}'\\beta+e_{i}$ with $E\\left[x_{i}e_{i}\\right]=0$ 的线性映射系数。\n",
    "\n",
    "为了验证存在的**一致性**，我们参考公式\n",
    "\n",
    "$$\n",
    "\\widehat{\\beta}-\\beta=\\left(X'X\\right)^{-1}X'e=\\left(\\frac{1}{n}\\sum_{i=1}^{n}x_{i}x_{i}'\\right)^{-1}\\frac{1}{n}\\sum_{i=1}^{n}x_{i}e_{i}.\\label{eq:ols_d}\n",
    "$$\n",
    "\n",
    "为了简化理解，在本章节中我们只考虑独立同分布（iid）的情况。\\\n",
    "通过大数定律（LLN）我们可以得到：\n",
    "\n",
    "$$\n",
    "\\widehat{Q}:=\\frac{1}{n}\\sum_{i=1}^{n}x_{i}x_{i}'\\stackrel{p}{\\to}Q:=E\\left[x_{i}x_{i}'\\right].\n",
    "$$\n",
    "\n",
    "这里的 $\\widehat{Q}$ 是 $x_{i}x_{i}'$ , $Q$ 则是 $x_{i}x_{i}'$ 的总体均值。\n",
    "\n",
    "同样根据LLN，我们可以得到第二个式子：\n",
    "\n",
    "$$\n",
    "\\frac{1}{n}\\sum_{i=1}^{n}x_{i}e_{i}\\stackrel{p}{\\to}0.\n",
    "$$\n",
    "\n",
    "基于连续映射定理有：\n",
    "\n",
    "$$\n",
    "\\widehat{\\beta}-\\beta\\stackrel{p}{\\to}Q^{-1}\\times0=0.\n",
    "$$\n",
    "\n",
    "里面的 $\\widehat{\\beta}$ 是 $\\beta$ 的 一致估计量。\n",
    "\n",
    "```{admonition} Remark\n",
    "\n",
    "无论 $\\left(y_{i},x_{i}\\right)_{i=1}^{n}$ 是否满足独立同分布，或者相依样本，或独立但不同分布。\n",
    "只要上述的两个表达式满足依概率收敛，同时 $Q$ 是可逆矩阵。\n",
    "\n",
    "```"
   ]
  },
  {
   "cell_type": "markdown",
   "id": "3ea80aa4",
   "metadata": {},
   "source": [
    "## 渐近分布"
   ]
  },
  {
   "cell_type": "markdown",
   "id": "52a07be5",
   "metadata": {},
   "source": [
    "在有限样本中，$\\widehat{\\beta}$ 是随机变量。先前我们已经展示过正态分布的下的 $\\widehat{\\beta}$ 。没有了正态分布假设的约束，我们将如何描述OLS估计量的随机性呢？\n",
    "\n",
    "从前面的部分我们已经学到了，$\\hat{\\beta}-\\beta\\stackrel{p}{\\to}0$ 会归于一个常数。为了研究它们的分布，我们需要用一个合适的乘数把它放大，使得它即不会收敛也不会发散。这个合适的参数就是 $\\sqrt{n}$ 。\\\n",
    "在中心极限定理（CLT）中：\n",
    "\n",
    "$$\n",
    "\\sqrt{n}\\left(\\widehat{\\beta}-\\beta\\right)=\\left(\\frac{1}{n}\\sum_{i=1}^{n}x_{i}x_{i}'\\right)^{-1}\\frac{1}{\\sqrt{n}}\\sum_{i=1}^{n}x_{i}e_{i}.\n",
    "$$\n",
    "\n",
    "既然 $E\\left[x_{i}e_{i}\\right]=0$ ，我们应用中心极限定理得到：\n",
    "\n",
    "$$\n",
    "\\frac{1}{\\sqrt{n}}\\sum_{i=1}^{n}x_{i}e_{i}\\stackrel{d}{\\to}N\\left(0,\\Sigma\\right)\n",
    "$$\n",
    "\n",
    "其中 $\\Sigma=E\\left[x_{i}x_{i}'e_{i}^{2}\\right]$ 。\n",
    "根据连续映射定理有：\n",
    "\n",
    "$$\n",
    "\\sqrt{n}\\left(\\widehat{\\beta}-\\beta\\right)\\stackrel{d}{\\to}Q^{-1}\\times N\\left(0,\\Sigma\\right)\\sim N\\left(0,\\Omega\\right)\\label{eq:asym_norm}\n",
    "$$(eq:asym\\_norm)\n",
    "\n",
    "其中 $\\Omega=Q^{-1}\\Sigma Q^{-1}$ 被称为**渐进方差**。\n",
    "得到的结果是OLS估计量的**渐近正态性**。\n",
    "\n",
    "$\\Omega=Q^{-1}\\Sigma Q^{-1}$ 被称之为**三明治形式**。在条件同方差的情况下，可以将其简化为：\n",
    "\n",
    "$$\n",
    "E\\left[e_{i}^{2}|x_{i}\\right]=\\sigma^{2}\n",
    "$$\n",
    "\n",
    "（对于所有的 $i$ 来说）\\\n",
    "从而得到\n",
    "\n",
    "$$\n",
    "\\Sigma=E\\left[x_{i}x_{i}'e_{i}^{2}\\right]=E\\left[x_{i}x_{i}'E\\left[e_{i}^{2}|X\\right]\\right]=\\sigma^{2}E\\left[x_{i}x_{i}'\\right]=\\sigma^{2}Q.\n",
    "$$\n",
    "\n",
    "在这个例子里，$\\Omega=Q^{-1}\\Sigma Q^{-1}=\\sigma^{2}Q^{-1}$ ，可以因此推出：\n",
    "\n",
    "$$\n",
    "\\sqrt{n}\\left(\\widehat{\\beta}-\\beta\\right)\\stackrel{d}{\\to}N\\left(0,\\sigma^{2}Q^{-1}\\right).\\label{eq:asym_norm_homo}\n",
    "$$\n",
    "\n",
    "如果对于 $k$ 阶参数 $\\beta_{k}$ 感兴趣，那么{eq}`eq:asym\\_norm`中的联合分布能够体现\n",
    "\n",
    "$$\n",
    "\\begin{aligned}\n",
    "\\sqrt{n}\\left(\\widehat{\\beta}_{k}-\\beta_{k}\\right) & =\\sqrt{n}\\eta_{k}'\\left(\\widehat{\\beta}-\\beta\\right)\\nonumber \\\\\n",
    " & \\stackrel{d}{\\to}N\\left(0,\\sigma^{2}\\eta_{k}'Q^{-1}\\eta_{k}\\right)\\sim N\\left(0,\\sigma^{2}[Q^{-1}]_{kk}\\right),\\label{eq:asym_norm_homok}\\end{aligned}\n",
    "$$(eq:asym\\_norm\\_homok\\_pivot)\n",
    "\n",
    "其中 $\\eta_{k}=\\left(0,\\ldots,0,1,0\\ldots,0\\right)'$是 $k$ 阶元素的选择器。\n",
    "{eq}`eq:asym\\_norm`的两边乘上 $\\Omega^{-1/2}$ ，我们就能得到\n",
    "\n",
    "$$\n",
    "\\Omega^{-1/2}\\sqrt{n}\\left(\\widehat{\\beta}-\\beta\\right)\\stackrel{d}{\\to}N\\left(0,I_{K}\\right).\\label{eq:asym_norm-pivot}\n",
    "$$(eq:asym\\_norm-pivot)\n",
    "\n",
    "我们说{eq}`eq:asym\\_norm-pivot`中的渐近分布 $N\\left(0,I_{K}\\right)$ 是**枢轴量**。因为它并不涉及任何的未知参数。\\\n",
    "相反，{eq}`eq:asym\\_norm`中的渐近分布不是枢轴量，因为 $\\Omega$ 在 $N\\left(0,\\Omega\\right)$ 中是未知的。\n",
    "\n",
    "如果我们想要了解 $\\beta_{k}$ 我们可以将{eq}`eq:asym\\_norm-pivot`以枢轴量的形式写到如下公式中：\n",
    "\n",
    "$$\n",
    "\\frac{\\sqrt{n}\\left(\\widehat{\\beta}_{k}-\\beta_{k}\\right)}{\\sqrt{\\sigma^{2}[Q^{-1}]_{kk}}}\\stackrel{d}{\\to}N\\left(0,1\\right).\\label{eq:asym_norm_homok_pivot}\n",
    "$$\n",
    "\n"
   ]
  },
  {
   "cell_type": "markdown",
   "id": "944b6c1f",
   "metadata": {},
   "source": [
    "## 渐近推断"
   ]
  },
  {
   "cell_type": "markdown",
   "id": "0a91043b",
   "metadata": {},
   "source": [
    "目前为止，我们已经得到了 $\\widehat{\\beta}$ 的渐近分布。然后，只有 $\\Omega$ 已知的时候，{eq}`eq:asym\\_norm`or {eq}`eq:asym\\_norm-pivot` 才能在统计推断中派上用场。在现实情况中，通常 $\\Omega$ 是未知的，因此需要先估计再做出统计推断。\n",
    "\n",
    "假设 $\\tilde{\\Omega}$ 是 $\\Omega$ 的任意是任意的一致估计量。依据 $\\tilde{\\Omega}\\stackrel{p}{\\to}\\Omega$ ，我们用 $\\Omega$ 替代{eq}`eq:asym\\_norm-pivot`中的 $\\tilde{\\Omega}$ ，我们就能得到：\n",
    "\n",
    "$$\n",
    "\\begin{aligned}\n",
    "\\tilde{\\Omega}^{-1/2}\\sqrt{n}\\left(\\widehat{\\beta}-\\beta\\right) & =\\tilde{\\Omega}^{-1/2}\\Omega^{1/2}\\times\\Omega^{-1/2}\\sqrt{n}\\left(\\widehat{\\beta}-\\beta\\right).\\end{aligned}\n",
    "$$\n",
    "\n",
    "因为 $\\Omega$ 是正定的，根据连续映射定理我们就会得到 $\\tilde{\\Omega}^{-1/2}\\Omega^{1/2}\\stackrel{p}{\\to}I_{K}$ 。第二是通过{eq}`eq:asym\\_norm-pivot`得到的渐近正态。因此**Slutsky's theorem**表示了\n",
    "\n",
    "$$\n",
    "\\tilde{\\Omega}^{-1/2}\\sqrt{n}\\left(\\widehat{\\beta}-\\beta\\right)\\stackrel{d}{\\to}N\\left(0,I_{K}\\right)\\label{eq:asym_norm_feasible}\n",
    "$$(eq:asym\\_norm\\_feasible)\n",
    "\n",
    "而{eq}`eq:asym\\_norm\\_feasible`是一个用于统计推断的可靠统计量。"
   ]
  },
  {
   "cell_type": "markdown",
   "id": "ca2550fd",
   "metadata": {},
   "source": [
    "我们遇到的下一个问题是如何一致估计 $\\Omega=Q^{-1}\\Sigma Q^{-1}$ ，或者说我们如何想出合适的 $\\tilde{\\Omega}$ 。我们之前已经有了  $\\widehat{Q}\\stackrel{p}{\\to}Q$ 。如果我们 $\\Sigma$ 的一致估计量 $\\tilde{\\Sigma}$ ，我们可以将一致估计量插入，形成 $\\tilde{\\Omega}=\\widehat{Q}^{-1}\\tilde{\\Sigma}\\widehat{Q}^{-1}$ 。现在我们遇到了一个棘手的问题——如何一致估计$\\Sigma=E\\left[x_{i}x_{i}'e_{i}^{2}\\right]$ 。实际上，我们不能用样本均值 $x_{i}x_{i}'e_{i}^{2}$ 来估计，因为 $e_{i}$ 无法观测。\n",
    "\n",
    "基于同方差有：$\\Omega=Q^{-1}\\Sigma Q^{-1}=\\sigma^{2}Q^{-1}$，相似地我们不能用 $e_{i}^{2}$ 来估计 $\\sigma^{2}$ 。\n",
    "\n",
    "异方差在计量经济学中无处不见。一个能够自然产生条件异方差的例子是 **线性概率模型** $y_{i}=x_{i}'\\beta+e_{i}$ 。$y_{i}\\in\\left\\{ 0,1\\right\\}$ 是一个二元因变量。 把CEF假设为 $E\\left[y_{i}|x_{i}\\right]=x_{i}'\\beta$ ，那么我们可以使用OLS的来估计 $\\beta$ 。\\\n",
    "条件方差为:\n",
    "\n",
    "$$\n",
    "\\mathrm{var}\\left[e_{i}|x_{i}\\right]=\\mathrm{var}\\left[y_{i}|x_{i}\\right]=E\\left[y_{i}|x_{i}\\right]\\left(1-E\\left[y_{i}|x_{i}\\right]\\right)=x_{i}'\\beta\\left(1-x_{i}'\\beta\\right)\n",
    "$$\n",
    "\n",
    "这里的条件方差随着 $x_{i}$ 而发生改变。"
   ]
  },
  {
   "cell_type": "markdown",
   "id": "0acecdde",
   "metadata": {},
   "source": [
    "如果用OLS的残差 $\\widehat{e}_{i}=\\widehat{y}_{i}-x_{i}'\\widehat{\\beta}$ 代替回归误差 $e_{i}$，那么我们就可以得到同方差的估计量 $\\widehat{\\Omega}=\\widehat{\\sigma}^{2}\\widehat{Q}^{-1}$ \\\n",
    "当中满足$\\widehat{\\sigma}^{2}=\\widehat{e}'\\widehat{e}/\\left(n-K\\right)$ 或 \n",
    "$\\widehat{\\sigma}^{2}=\\widehat{e}'\\widehat{e}/n$ \n",
    "\n",
    "如果是异方差，得到的估计量为：$\\widehat{\\Omega}=\\widehat{Q}^{-1}\\widehat{\\Sigma}\\widehat{Q}^{-1}$\\\n",
    "相应地：$\\widehat{\\Sigma}=n^{-1}\\sum_{i}x_{i}x_{i}'\\widehat{e}_{i}^{2}$\n",
    "\n",
    "如果我们选用 $\\widehat{\\sigma}^{2}=\\widehat{e}'\\widehat{e}/\\left(n-K\\right)$ 然后替换{eq}`eq:asym\\_norm\\_homok\\_pivot`中的 $\\sigma^{2}$ ，那么 $T_{k}=\\frac{\\sqrt{n}\\left(\\widehat{\\beta}_{k}-\\beta_{k}\\right)}{\\sqrt{\\widehat{\\sigma}^{2}[\\widehat{Q}^{-1}]_{kk}}}$ 的结果就等于有限样本估计中的 $t$ 统计量。"
   ]
  },
  {
   "cell_type": "markdown",
   "id": "37fd15dd",
   "metadata": {},
   "source": [
    "之前我们学过，在经典的误差项正态分布的假设中， $t$ 统计量遵循精确有限样本 $t$ 分布，自由度为 $n-K$ 。在渐近分析中，如果满足公式$E\\left[e_{i}^{2}|x_{i}\\right]<\\infty$ ，我们允许 $e_{i}$ 遵循任何的分布。（这个假设是为了简化，在后续**inid**的案例中可以进一步放松）渐近的正态性允许我们进行渐近的统计推断。对于 $t$ 统计量，我们需要从正态分布中得出临界值。\\\n",
    "因为如果 $\\widehat{\\sigma}^{2}\\stackrel{p}{\\to}\\sigma^{2}$ 成立，相应有：\n",
    "\n",
    "$$\n",
    "T_{k}=\\frac{\\sqrt{\\sigma^{2}[Q^{-1}]_{kk}}}{\\sqrt{\\widehat{\\sigma}^{2}[\\widehat{Q}^{-1}]_{kk}}}\\cdot\\frac{\\sqrt{n}\\left(\\widehat{\\beta}_{k}-\\beta_{k}\\right)}{\\sqrt{\\sigma^{2}[Q^{-1}]_{kk}}}\\stackrel{d}{\\to}1\\times N\\left(0,1\\right)\\sim N\\left(0,1\\right)\n",
    "$$\n",
    "\n",
    "（**By Slutsky's theorem**）\n",
    "\n",
    "下一部分将会涉及到：\n",
    "$\\widehat{\\sigma}^{2}\\stackrel{p}{\\to}\\sigma^{2}$ 和\n",
    "$\\widehat{\\Sigma}\\stackrel{p}{\\to}\\Sigma$."
   ]
  },
  {
   "cell_type": "markdown",
   "id": "0851a077",
   "metadata": {},
   "source": [
    "## 总结"
   ]
  },
  {
   "cell_type": "markdown",
   "id": "3588ad13",
   "metadata": {},
   "source": [
    "渐近理论中最重要的技巧之一就是不等式。这些方差的推导一开始看起来很复杂，实际上在各种的证明推导中都会遇见。之后的学习中再被慢慢“折磨”几年，也就逐渐习惯了这些常规的计算了。\n",
    "\n",
    "```{admonition} 历史趣闻\n",
    "@white1980heteroskedasticity \n",
    "他主要关注违反经典统计假设的经济背景非线性回归。这些从而引起了计量经济学家们对统计推断中方差估计的关注或痴迷，在接下来的几十年里，出现了大量不遵循经典假设的方差估计理论。\n",
    "```\n",
    "\n",
    "```{admonition} 拓展阅读 \n",
    "在本章中，所有的向量的维度都是有限的，如果 $K\\to\\infty$ 的速率比 $n$ 小得多，其中的结论可以被推广到 $K$ 无限的情况。这样的渐近将需要多个指数，并且它超出了我们在这里学到的最简单的 $n\\to\\infty$ 的情况。大数据伴随着复杂的模型，模型往往随着 $n$ 的增加而变得更加复杂。在我最新的论文 @shi2020high 的证明中，你会发现大量与本章节类似的不等式运算。\n",
    "```"
   ]
  },
  {
   "cell_type": "markdown",
   "id": "15264bb7",
   "metadata": {},
   "source": [
    "## 附录"
   ]
  },
  {
   "cell_type": "markdown",
   "id": "e8024a55",
   "metadata": {},
   "source": [
    "我们在这里介绍确定性情况的符号 *big Op and small op* ，与之相对的是随机情况的 *big O and small o* 符号。\n",
    "\n",
    "-   Small op: $x_{n}=o_{p}\\left(r_{n}\\right)$ if\n",
    "    $x_{n}/r_{n}\\stackrel{p}{\\to}0$.\n",
    "\n",
    "-   Big Op: $x_{n}=O_{p}\\left(r_{n}\\right)$ if for any $\\varepsilon>0$,\n",
    "    there exists a $c>0$ such that\n",
    "    $P\\left(\\left|x_{n}\\right|/r_{n}>c\\right)<\\varepsilon$.\n",
    "    \n",
    "    一些推导:\n",
    "\n",
    "-   $o_{p}\\left(1\\right)+o_{p}\\left(1\\right)=o_{p}\\left(1\\right)$;\n",
    "\n",
    "-   $o_{p}\\left(1\\right)+O_{p}\\left(1\\right)=O_{p}\\left(1\\right)$;\n",
    "\n",
    "-   $o_{p}\\left(1\\right)O_{p}\\left(1\\right)=o_{p}\\left(1\\right)$.\n",
    "\n",
    "*big Op and small op* 使得我们可以在表示随机对象的随机顺序时依然可以继续使用等式计算。\n",
    "\n",
    "` Zhentao Shi. Oct 21, 2020.`\n",
    "\n",
    "\\bibliographystyle{chicagoa}"
   ]
  }
 ],
 "metadata": {
  "kernelspec": {
   "display_name": "Python 3 (ipykernel)",
   "language": "python",
   "name": "python3"
  },
  "language_info": {
   "codemirror_mode": {
    "name": "ipython",
    "version": 3
   },
   "file_extension": ".py",
   "mimetype": "text/x-python",
   "name": "python",
   "nbconvert_exporter": "python",
   "pygments_lexer": "ipython3",
   "version": "3.9.12"
  }
 },
 "nbformat": 4,
 "nbformat_minor": 5
}
