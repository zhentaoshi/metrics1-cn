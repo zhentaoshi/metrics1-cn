{
  "cells": [
    {
      "cell_type": "code",
      "execution_count": 1,
      "metadata": {
        "vscode": {
          "languageId": "r"
        }
      },
      "outputs": [],
      "source": [
        "# feel free to change n and beta0 to see the effect of sample size \n",
        "# and parameter values\n",
        "n = 100\n",
        "beta0 = c(1.0, 1.0, 0.0) "
      ]
    },
    {
      "cell_type": "markdown",
      "metadata": {},
      "source": [
        "The sample size is set to be 100, which is moderate for simple regressions. "
      ]
    },
    {
      "cell_type": "code",
      "execution_count": 2,
      "metadata": {
        "vscode": {
          "languageId": "r"
        }
      },
      "outputs": [],
      "source": [
        "X = cbind(rnorm(n), rpois(n, 3) )\n",
        "e = rlogis(n)\n",
        "\n",
        "y = cbind(1, X ) %*% beta0 + e # generate data"
      ]
    },
    {
      "cell_type": "markdown",
      "metadata": {},
      "source": [
        "Generate data"
      ]
    },
    {
      "cell_type": "code",
      "execution_count": 3,
      "metadata": {
        "vscode": {
          "languageId": "r"
        }
      },
      "outputs": [
        {
          "data": {
            "text/plain": [
              "\n",
              "Call:\n",
              "lm(formula = y ~ X)\n",
              "\n",
              "Residuals:\n",
              "    Min      1Q  Median      3Q     Max \n",
              "-3.8712 -1.1051  0.0552  0.9676  4.3568 \n",
              "\n",
              "Coefficients:\n",
              "            Estimate Std. Error t value Pr(>|t|)    \n",
              "(Intercept)  1.54551    0.33199   4.655 1.03e-05 ***\n",
              "X1           1.02160    0.15961   6.401 5.50e-09 ***\n",
              "X2          -0.22680    0.09963  -2.276    0.025 *  \n",
              "---\n",
              "Signif. codes:  0 '***' 0.001 '**' 0.01 '*' 0.05 '.' 0.1 ' ' 1\n",
              "\n",
              "Residual standard error: 1.586 on 97 degrees of freedom\n",
              "Multiple R-squared:  0.3094,\tAdjusted R-squared:  0.2951 \n",
              "F-statistic: 21.72 on 2 and 97 DF,  p-value: 1.599e-08\n"
            ]
          },
          "metadata": {},
          "output_type": "display_data"
        }
      ],
      "source": [
        "reg1 = lm( y ~ X ) # OLS regression\n",
        "summary(reg1)"
      ]
    },
    {
      "cell_type": "code",
      "execution_count": 4,
      "metadata": {
        "scrolled": true,
        "vscode": {
          "languageId": "r"
        }
      },
      "outputs": [
        {
          "data": {
            "image/png": "[encoded data removed]",
            "text/plain": [
              "plot without title"
            ]
          },
          "metadata": {},
          "output_type": "display_data"
        }
      ],
      "source": [
        "yhat = predict( reg1, data  = X ) # predicted value from the OLS regression\n",
        "matplot( x = X[,1], y = cbind(y, yhat), pch = 1:2, xlab = \"x\", ylab = \"y\")\n",
        "legend(x = 2, y = -2, pch = 1:2, col = 1:2, legend = c(\"y\", \"predicted\"))"
      ]
    },
    {
      "cell_type": "markdown",
      "metadata": {},
      "source": [
        "Change $y$ to be a binary variable"
      ]
    },
    {
      "cell_type": "code",
      "execution_count": 5,
      "metadata": {
        "vscode": {
          "languageId": "r"
        }
      },
      "outputs": [
        {
          "data": {
            "text/plain": [
              "\n",
              "Call:\n",
              "lm(formula = y01 ~ X)\n",
              "\n",
              "Residuals:\n",
              "     Min       1Q   Median       3Q      Max \n",
              "-0.83409 -0.30414  0.05258  0.33253  0.62642 \n",
              "\n",
              "Coefficients:\n",
              "            Estimate Std. Error t value Pr(>|t|)    \n",
              "(Intercept)  0.89866    0.08518  10.550  < 2e-16 ***\n",
              "X1           0.22537    0.04095   5.504 3.03e-07 ***\n",
              "X2          -0.07922    0.02556  -3.099  0.00254 ** \n",
              "---\n",
              "Signif. codes:  0 '***' 0.001 '**' 0.01 '*' 0.05 '.' 0.1 ' ' 1\n",
              "\n",
              "Residual standard error: 0.4069 on 97 degrees of freedom\n",
              "Multiple R-squared:  0.2737,\tAdjusted R-squared:  0.2587 \n",
              "F-statistic: 18.28 on 2 and 97 DF,  p-value: 1.837e-07\n"
            ]
          },
          "metadata": {},
          "output_type": "display_data"
        }
      ],
      "source": [
        "y01 = (y >= 0) \n",
        "reg2 = lm( y01 ~ X ) # logistic regression\n",
        "summary(reg2)"
      ]
    },
    {
      "cell_type": "code",
      "execution_count": 6,
      "metadata": {
        "vscode": {
          "languageId": "r"
        }
      },
      "outputs": [
        {
          "data": {
            "text/plain": [
              "\n",
              "Call:\n",
              "glm(formula = y01 ~ X, family = binomial(link = \"logit\"))\n",
              "\n",
              "Deviance Residuals: \n",
              "    Min       1Q   Median       3Q      Max  \n",
              "-2.0641  -0.6944   0.3364   0.7920   1.6666  \n",
              "\n",
              "Coefficients:\n",
              "            Estimate Std. Error z value Pr(>|z|)    \n",
              "(Intercept)   2.6756     0.7028   3.807 0.000141 ***\n",
              "X1            1.4710     0.3518   4.182 2.89e-05 ***\n",
              "X2           -0.5671     0.1917  -2.958 0.003095 ** \n",
              "---\n",
              "Signif. codes:  0 '***' 0.001 '**' 0.01 '*' 0.05 '.' 0.1 ' ' 1\n",
              "\n",
              "(Dispersion parameter for binomial family taken to be 1)\n",
              "\n",
              "    Null deviance: 126.836  on 99  degrees of freedom\n",
              "Residual deviance:  94.292  on 97  degrees of freedom\n",
              "AIC: 100.29\n",
              "\n",
              "Number of Fisher Scoring iterations: 5\n"
            ]
          },
          "metadata": {},
          "output_type": "display_data"
        }
      ],
      "source": [
        "yhat01 = predict( reg2, data  = X )\n",
        "reg3 = glm( y01 ~ X, family=binomial(link='logit') )\n",
        "summary(reg3)"
      ]
    },
    {
      "cell_type": "code",
      "execution_count": 7,
      "metadata": {
        "vscode": {
          "languageId": "r"
        }
      },
      "outputs": [
        {
          "data": {
            "image/png": "[encoded data removed]",
            "text/plain": [
              "plot without title"
            ]
          },
          "metadata": {},
          "output_type": "display_data"
        }
      ],
      "source": [
        "yhat01_logit = predict( reg3, data  = X, type=\"response\" )\n",
        "matplot( x = X[,1], y = cbind(y01, yhat01, yhat01_logit), pch = 1:3, xlab = \"x\", ylab = \"y\" )\n",
        "legend(x = 2, y = .3, pch = 1:3, col = 1:3, legend = c(\"y\", \"linear pred.\", \"logit pred.\"))"
      ]
    },
    {
      "cell_type": "markdown",
      "metadata": {},
      "source": [
        "### Exercise: \n",
        "\n",
        "change the sample size to be 10000. Check if the estimated parameter will be very close to the true value. It makes sure that the estimated parameters will be close to the true parameter when the model is correctly specified. In the meantime, the sample size is big enough so that the computer will take a few minutes until the graphs are displayed."
      ]
    },
    {
      "cell_type": "markdown",
      "metadata": {},
      "source": [
        "## Heteroskedasticity\n",
        "\n",
        "Heteroskedasticity can happen even if the observations are iid across $i$. In the following example, $e_i = x_{1i} u_i $ and $x_{1i}$ and $u_i \\sim (0, \\sigma^2 ) $ are independent. The mean independence \n",
        "$$E[e_i|x_i] = x_{1i} E[u_i|x_i] = 0$$ \n",
        "is still satisfied, but \n",
        "$$E[e_i^2 |x_i] = x_{1i}^2 E[u_i^2 |x_i] = x_{1i}^2 \\sigma^2.$$"
      ]
    },
    {
      "cell_type": "markdown",
      "metadata": {},
      "source": [
        "The OLS estimator is still consistent and asymptotically normal, but the asymptotic variance is difference from the case of homoskedasticity."
      ]
    }
  ],
  "metadata": {
    "kernel_info": {
      "name": "ir"
    },
    "kernelspec": {
      "display_name": "R",
      "language": "R",
      "name": "ir"
    },
    "language_info": {
      "codemirror_mode": "r",
      "file_extension": ".r",
      "mimetype": "text/x-r-source",
      "name": "R",
      "pygments_lexer": "r",
      "version": "3.5.3"
    },
    "nteract": {
      "version": "0.11.6"
    }
  },
  "nbformat": 4,
  "nbformat_minor": 2
}
