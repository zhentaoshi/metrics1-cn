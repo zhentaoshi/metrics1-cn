{
 "cells": [
  {
   "cell_type": "markdown",
   "id": "d1733900",
   "metadata": {},
   "source": [
    "# 最小二乘法:有限样本理论"
   ]
  },
  {
   "cell_type": "markdown",
   "id": "de0b8d9c",
   "metadata": {},
   "source": [
    "\n",
    "今天我们继续研究最小二乘法的性质. 我们选取有限样本精确分布为学习的主题.它可以很好地被用于统计推断. \n",
    "高斯-马尔可夫理论证明了满足经典假设的OLS的最优性.\n",
    "\n"
   ]
  },
  {
   "cell_type": "markdown",
   "id": "4f9119de",
   "metadata": {},
   "source": [
    "```{admonition} Exercise\n",
    "Two groups, control and treatment. If there are people in the control group and $n-1$ people in the treatment group. What is the consequence?\n",
    "``` "
   ]
  },
  {
   "cell_type": "markdown",
   "id": "3f57b5e0",
   "metadata": {},
   "source": [
    "基于我们已经在前一讲中学习过的线性投影模型:\n",
    "\n",
    "$$\n",
    "\\begin{aligned}y & =x'\\beta+e\\end{aligned}, \n",
    "$$\n",
    "\n",
    "投影系数 $\\beta$ 可以写作:\n",
    "\n",
    "$$\n",
    "\\beta=\\left(E\\left[xx'\\right]\\right)^{-1}E\\left[xy\\right]. \n",
    "$$(eqn:label1)\n",
    "\n",
    "我们从 $\\left(y,x\\right)$ 的联合分布中取出一个观测值, 记作 $\\left(y_{i},x_{i}\\right)$。 重复此过程 $n$ 次得到 $n$ 个观测值, 即 $i=1,\\ldots,n$, 那么我们随即就得到了一个样本 $\\left(y_{i},x_{i}\\right)_{i=1}^{n}$ . \n"
   ]
  },
  {
   "cell_type": "markdown",
   "id": "f4dbed40",
   "metadata": {},
   "source": [
    "样本均值 (sample mean) 是总体均值 (population mean) 的天然估计量。 将式 {eq}eqn:label1 中总体均值 $E\\left[\\cdot\\right]$ 替换为样本均值 $\\frac{1}{n}\\sum_{i=1}^{n}\\cdot$, 那么相应的最小二乘法系数的估计值就可以写作：\n",
    "\n",
    "$$\n",
    "\\begin{aligned}\n",
    "\\widehat{\\beta} & =\\left(\\frac{1}{n}\\sum_{i=1}^{n}x_{i}x_{i}'\\right)^{-1}\\frac{1}{n}\\sum_{i=1}^{n}x_{i}y_{i}\\\\\n",
    " & =\\left(\\frac{X'X}{n}\\right)^{-1}\\frac{X'y}{n}=\\left(X'X\\right)^{-1}X'y.\\end{aligned}\n",
    "$$\n",
    "\n",
    "上式假设中 $X'X$ 是可逆的。 这是一种理解最小二乘法的观点。 "
   ]
  },
  {
   "cell_type": "markdown",
   "id": "b5b49522",
   "metadata": {},
   "source": [
    "```{admonition} Remark\n",
    "样本$\\left(y_{i},x_{i}\\right)$ 到底是随机的呢？还是固定的呢？\n",
    "\n",
    "——在我们观测之前, 样本是随机变量, 而随机变量的值是不确定的。 当我们谈起样本的统计学性质时, 我们必须将其视之为随机变量, 因为只有随机变量才有统计学性质, 固定值的统计学性质是无意义的。 而在我们观测之后, 样本的值就确定下来了, 成为固定值, 不能再更改。 \n",
    "\n",
    "\n",
    "在实际操作中, 我们手中只有一些给定的数据 (当然, 现在的大数据也可以将文本, 照片声音和图像处理成为数据, 这些数据在计算机当中用0和1来表示)。 我们把这些数据扔给计算机, 让计算机给出一个结果. 在统计学意义上, 我们认为这些数字是从一个概率分布上得出的**思想实验**结果. 思想实验是一个学术用语, 说白了, 它就是一个故事. 在公理体系统治的概率论当中, 这个故事在数学上是自洽的。 但是要知道，数学本身是一个套套逻辑 (tautology) , 而不是科学。 \n",
    "\n",
    "而概率模型的科学价值恰恰在于, 它到底在多大程度上能够逼近事实的真相？以及, 它是不是能够帮我们预测一些真相？在这门课中, 我们假设数据来自于某种机制, 我们把这种机制当成真相. 比如, 在线性回归当中, $\\left(y,x\\right)$ 的联合分布就是我们头脑中的真相. 而我们想要研究的线性投影系数 $\\beta$ 即为此真相的某个侧面表现形式. \n",
    "```"
   ]
  },
  {
   "cell_type": "code",
   "execution_count": null,
   "id": "425b819a",
   "metadata": {
    "vscode": {
     "languageId": "r"
    }
   },
   "outputs": [],
   "source": [
    "rpois(20)\n",
    "\n",
    "rnorm(20)"
   ]
  },
  {
   "cell_type": "markdown",
   "id": "329d2613",
   "metadata": {},
   "source": [
    "样本均值 (sample mean) 是总体均值 (population mean) 的天然估计量。 将式 {eq}`eqn:label1` 中总体均值 $E\\left[\\cdot\\right]$ 替换为样本均值 $\\frac{1}{n}\\sum_{i=1}^{n}\\cdot$, 那么相应的, 最小二乘法系数的估计值就可以写作：\n",
    "\n",
    "$$\n",
    "\\begin{aligned}\n",
    "\\widehat{\\beta} & =\\left(\\frac{1}{n}\\sum_{i=1}^{n}x_{i}x_{i}'\\right)^{-1}\\frac{1}{n}\\sum_{i=1}^{n}x_{i}y_{i}\\\\\n",
    " & =\\left(\\frac{X'X}{n}\\right)^{-1}\\frac{X'y}{n}=\\left(X'X\\right)^{-1}X'y.\\end{aligned}\n",
    "$$\n",
    "\n",
    "上式假设 $X'X$ 是可逆的. 这是一种理解最小二乘法的观点。 "
   ]
  },
  {
   "cell_type": "markdown",
   "id": "dd86dd1a",
   "metadata": {},
   "source": [
    "\n",
    "## 有限样本分布\n",
    "\n",
    "我们可以看到有限样本精确分布 $\\widehat{\\beta}$ 假设误差项满足服从分布。\n",
    "**有限样本分布** 意味着它适用于任何的 $n$; 与之相对的是**渐近分布**, 通过大样本来逼近有限样本分布。 \n",
    "首先我们来复习正态随机向量的一些常见性质。\n",
    "\n",
    "<span id=\"fact31\" label=\"fact31\">\\[fact31\\]</span> 令\n",
    "$z\\sim N\\left(\\mu,\\Omega\\right)$ 为 $l\\times1$ 的随机向量，其中 $\\Omega$ 为正定的方差与协方差矩阵。\n",
    "令 $A$ 为\n",
    "$m\\times l$ 非随机矩阵，其中 $m\\leq l$. 那么\n",
    "$Az\\sim N\\left(A\\mu,A\\Omega A'\\right)$.\n",
    "\n",
    "<span id=\"fact32\" label=\"fact32\">\\[fact32\\]</span>\n",
    "如果$z\\sim N\\left(0,1\\right)$, $w\\sim\\chi^{2}\\left(d\\right)$, 且 $z$ 和 $w$\n",
    "相互独立. 那么 $\\frac{z}{\\sqrt{w/d}}\\sim t\\left(d\\right)$.\n"
   ]
  },
  {
   "cell_type": "markdown",
   "id": "458acbbf",
   "metadata": {},
   "source": [
    "\n",
    "我们使用最小二乘估计参数\n",
    "\n",
    "$$\n",
    "\\widehat{\\beta}=\\left(X'X\\right)^{-1}X'Y=\\left(X'X\\right)^{-1}X'\\left(X'\\beta+e\\right)=\\beta+\\left(X'X\\right)^{-1}X'e,\n",
    "$$\n",
    "\n",
    "它的条件分布可以被写为： \n",
    "\n",
    "$$\n",
    "\\begin{aligned}\n",
    "\\widehat{\\beta}|X & =\\beta+\\left(X'X\\right)^{-1}X'e|X\\\\\n",
    " & \\sim\\beta+\\left(X'X\\right)^{-1}X'\\cdot N\\left(0_{n},\\gamma I_{n}\\right)\\\\\n",
    " & \\sim N\\left(\\beta,\\gamma\\left(X'X\\right)^{-1}X'X\\left(X'X\\right)^{-1}\\right)\\sim N\\left(\\beta,\\gamma\\left(X'X\\right)^{-1}\\right)\n",
    "\\end{aligned}\n",
    "$$\n",
    "\n",
    "基于\n",
    "<a href=\"#fact31\" data-reference-type=\"ref\" data-reference=\"fact31\">[fact31]</a>, $\\hat{\\beta}$  的第 $k$ 个元素是：\n",
    "\n",
    "$$\n",
    "\\widehat{\\beta}_{k}|X=\\eta_{k}'\\widehat{\\beta}|X\\sim N\\left(\\beta_{k},\\gamma\\eta_{k}'\\left(X'X\\right)^{-1}\\eta_{k}\\right)\\sim N\\left(\\beta_{k},\\gamma\\left[\\left(X'X\\right)^{-1}\\right]_{kk}\\right),\n",
    "$$\n",
    "\n",
    "其中 \n",
    "\n",
    "$$\n",
    "\\eta_{k}=\\left(1\\left\\{ l=k\\right\\} \\right)_{l=1,\\ldots,K}\n",
    "$$ \n",
    "\n",
    "用于选出第 $k$ 个元素。\n",
    "\n",
    "以上表达式中， $\\gamma$ 是一个未知参数。 \n",
    "我们可以用\n",
    "\n",
    "$$\n",
    "s^{2}=\\widehat{e}'\\widehat{e}/\\left(n-K\\right)=e'M_{X}e/\\left(n-K\\right)\n",
    "$$\n",
    "\n",
    "无偏地估计 $\\gamma$, 其无偏性验证如下: \n",
    "\n",
    "$$\n",
    "\\begin{aligned}\n",
    "E\\left[s^{2}|X\\right] & =\\frac{1}{n-K}E\\left[e'M_{X}e|X\\right]=\\frac{1}{n-K}\\mathrm{trace}\\left(E\\left[e'M_{X}e|X\\right]\\right)\\\\\n",
    " & =\\frac{1}{n-K}\\mathrm{trace}\\left(E\\left[M_{X}ee'|X\\right]\\right)=\\frac{1}{n-K}\\mathrm{trace}\\left(M_{X}E\\left[ee'|X\\right]\\right)\\\\\n",
    " & =\\frac{1}{n-K}\\mathrm{trace}\\left(M_{X}\\gamma I_{n}\\right)=\\frac{\\gamma}{n-K}\\mathrm{trace}\\left(M_{X}\\right)=\\gamma\n",
    "\\end{aligned}\n",
    "$$\n",
    "\n",
    "其中我们使用了迹的性质\n",
    "$\\mathrm{trace}\\left(AB\\right)=\\mathrm{trace}\\left(BA\\right)$.\n"
   ]
  },
  {
   "cell_type": "markdown",
   "id": "a73caabf",
   "metadata": {},
   "source": [
    "如果 $\\beta_{k}^{*}$ 是我们想要检验的值, 基于\n",
    "原假设 $H_{0}:\\beta_{k}=\\beta_{k}^{*}$ 我们可以建立相应的 $t$ 统计量\n",
    "\n",
    "$$\n",
    "T_{k}=\\frac{\\widehat{\\beta}_{k}-\\beta_{k}^{*}}{\\sqrt{s^{2}\\left[\\left(X'X\\right)^{-1}\\right]_{kk}}},\n",
    "$$\n",
    "\n",
    "该统计量当中没有任何的未知数, 可以直接用数据计算. \n",
    "当原假设成立时, $\\beta_{k}=\\beta_{k}^{*}$ , 因此\n",
    "\n",
    "$$\n",
    "\\begin{aligned}\n",
    "T_{k} & =\\frac{\\widehat{\\beta}_{k}-\\beta_{k}}{\\sqrt{s^{2}\\left[\\left(X'X\\right)^{-1}\\right]_{kk}}} \\\\\n",
    " & =\\frac{\\widehat{\\beta}_{k}-\\beta_{k}}{\\sqrt{\\sigma^{2}\\left[\\left(X'X\\right)^{-1}\\right]_{kk}}}\\cdot\\frac{\\sqrt{\\sigma^{2}}}{\\sqrt{s^{2}}} \\\\\n",
    " & =\\frac{\\left(\\widehat{\\beta}_{k}-\\beta_{0,k}\\right)/\\sqrt{\\sigma^{2}\\left[\\left(X'X\\right)^{-1}\\right]_{kk}}}{\\sqrt{\\frac{e'}{\\sigma}M_{X}\\frac{e}{\\sigma}/\\left(n-K\\right)}},\n",
    "\\end{aligned}\n",
    "$$(eqn:t-stat)\n",
    "\n",
    "此时我们引入 $\\sigma^{2}=\\gamma$ 到第二个等式中来帮忙求出分布中最后一个表达式的分子和分母。 \n",
    "分子为\n",
    "\n",
    "$$\n",
    "\\left(\\widehat{\\beta}_{k}-\\beta_{k}\\right)/\\sqrt{\\sigma^{2}\\left[\\left(X'X\\right)^{-1}\\right]_{kk}}\\sim N\\left(0,1\\right);\n",
    "$$\n",
    "\n",
    "分母 $\\sqrt{\\frac{e'}{\\sigma}M_{X}\\frac{e}{\\sigma}/\\left(n-K\\right)}$ \n",
    "服从$\\sqrt{\\frac{1}{n-K}\\chi^{2}\\left(n-K\\right)}$. \n",
    "此外, 因为\n",
    "\n",
    "$$\n",
    "\\begin{aligned}\n",
    "\\begin{bmatrix}\\widehat{\\beta}-\\beta\\\\\n",
    "\\widehat{e}\n",
    "\\end{bmatrix} & =\\begin{bmatrix}\\left(X'X\\right)^{-1}X'e\\\\\n",
    "M_{X}e\n",
    "\\end{bmatrix}=\\begin{bmatrix}\\left(X'X\\right)^{-1}X'\\\\\n",
    "M_{X}\n",
    "\\end{bmatrix}e\\\\\n",
    " & \\sim\\begin{bmatrix}\\left(X'X\\right)^{-1}X'\\\\\n",
    "M_{X}\n",
    "\\end{bmatrix}\\cdot N\\left(0,\\gamma I_{n}\\right)\\sim N\\left(0,\\gamma\\begin{bmatrix}\\left(X'X\\right)^{-1} & 0\\\\\n",
    "0 & M_{X}\n",
    "\\end{bmatrix}\\right)\\end{aligned}\n",
    "$$ \n",
    "\n",
    "符合方差为0非对角分块阵的联合正态分布, 因此 $(\\widehat{\\beta}-\\beta )$ 和\n",
    "$\\widehat{e}$ 是相互独立的.  如果我们将 $X$ 视为非随机的, 公式{eq}`eqn:t-stat` 的分子和分母相互独立. \n",
    "通过\n",
    "<a href=\"#fact32\" data-reference-type=\"ref\" data-reference=\"fact32\">[fact32]</a> 我们可以得到结果 $T_{k}\\sim t\\left(n-K\\right)$.\n",
    "这使得我们可以进行统计推断。\n"
   ]
  },
  {
   "cell_type": "markdown",
   "id": "b2b0f2a9",
   "metadata": {},
   "source": [
    "\n",
    "## 均值和方差\n",
    "\n",
    "现在我们放松正态分布假设和统计独立性。\n",
    "我们用 $Y=X\\beta+e$ 来表示回归模型, 并且假设：\n",
    "\n",
    "$$\n",
    "\\begin{aligned}\n",
    "E[e|X] & =0_{n}\\\\\n",
    "\\mathrm{var}\\left[e|X\\right] & =E\\left[ee'|X\\right]=\\sigma^{2}I_{n}.\n",
    "\\end{aligned}\n",
    "$$\n",
    "\n",
    "其中第一个条件被称为 **均值独立** 假设, 而第二个则被称为 **同方差** 假设. \n",
    "与正态分布假设不同, 它们对 $e_{i}$ 的分布没有限制；\n",
    "而只是限制了给定 $x_{i}$ 后 $e_{i}$ 的一阶矩和二阶矩。 \n",
    "这两个条件下，我们可以得到如下性质。\n"
   ]
  },
  {
   "cell_type": "markdown",
   "id": "cea95e4a",
   "metadata": {},
   "source": [
    "\n",
    "-  无偏性: \n",
    "\n",
    "$$\n",
    "\\begin{aligned}\n",
    "    E\\left[\\widehat{\\beta}|X\\right] & =E\\left[\\left(X'X\\right)^{-1}XY|X\\right]=E\\left[\\left(X'X\\right)^{-1}X\\left(X'\\beta+e\\right)|X\\right]\\\\\n",
    "     & =\\beta+\\left(X'X\\right)^{-1}XE\\left[e|X\\right]=\\beta.\\end{aligned}\n",
    "$$\n",
    "\n",
    "   根据期望迭代法则, 无条件期望为\n",
    "    \n",
    "$$\n",
    "E\\left[\\widehat{\\beta}\\right]=E\\left[E\\left[\\widehat{\\beta}|X\\right]\\right]=\\beta.\n",
    "$$\n",
    "    \n",
    "   无偏性不依赖同方差假设.\n",
    "\n",
    "-   因为 $\\hat{\\beta}$ 的方差是\n",
    "   \n",
    "    $$\n",
    "    \\begin{aligned}\\mathrm{var}\\left[\\widehat{\\beta}|X\\right] & =E\\left[\\left(\\widehat{\\beta}-E\\widehat{\\beta}\\right)\\left(\\widehat{\\beta}-E\\widehat{\\beta}\\right)'|X\\right]\\\\\n",
    "     & =E\\left[\\left(\\widehat{\\beta}-\\beta\\right)\\left(\\widehat{\\beta}-\\beta\\right)'|X\\right]\\\\\n",
    "     & =E\\left[\\left(X'X\\right)^{-1}X'ee'X\\left(X'X\\right)^{-1}|X\\right]\\\\\n",
    "     & =\\left(X'X\\right)^{-1}X'E\\left[ee'|X\\right]X\\left(X'X\\right)^{-1}.\n",
    "    \\end{aligned}\n",
    "    $$ \n",
    "    \n",
    "    因此同方差假设可将其简化为\n",
    "\n",
    "    $$\n",
    "    \\begin{aligned}\\mathrm{var}\\left[\\widehat{\\beta}|X\\right] & =\\left(X'X\\right)^{-1}X'\\left(\\sigma^{2}I_{n}\\right)X\\left(X'X\\right)^{-1}\\\\\n",
    "     & =\\sigma^{2}\\left(X'X\\right)^{-1}X'I_{n}X\\left(X'X\\right)^{-1}\\\\\n",
    "     & =\\sigma^{2}\\left(X'X\\right)^{-1}.\n",
    "    \\end{aligned}\n",
    "    $$\n"
   ]
  },
  {
   "cell_type": "markdown",
   "id": "18a14af6",
   "metadata": {},
   "source": [
    "\n",
    "```{admonition} Example\n",
    "\n",
    "(异方差) 如果 $e_{i}=x_{i}u_{i}$, 其中 $x_{i}$ 是一个标量的随机变量, $u_{i}$ 独立于 $x_{i}$,\n",
    "$E\\left[u_{i}\\right]=0$ 和 $E\\left[u_{i}^{2}\\right]=\\sigma_{u}^{2}$.\n",
    "那么有\n",
    "$E\\left[e_{i}|x_{i}\\right]=E\\left[x_{i}u_{i}|x_{i}\\right]=x_{i}E\\left[u_{i}|x_{i}\\right]=0$\n",
    "但是\n",
    "$E\\left[e_{i}^{2}|x_{i}\\right]=E\\left[x_{i}^{2}u_{i}^{2}|x_{i}\\right]=x_{i}^{2}E\\left[u_{i}^{2}|x_{i}\\right]=\\sigma_{u}^{2}x_{i}^{2}$\n",
    "是 $x_{i}$ 的函数, 因此 $e_{i}^{2}$ 是一个异方差误差项。\n",
    "```\n"
   ]
  },
  {
   "cell_type": "code",
   "execution_count": null,
   "id": "8f17c37b",
   "metadata": {
    "inputHidden": false,
    "outputHidden": false,
    "vscode": {
     "languageId": "r"
    }
   },
   "outputs": [],
   "source": [
    "n = 100; X = rnorm(n)\n",
    "u = rnorm(n)\n",
    "plot( y = u, x = X, col = \"blue\", ylab = \"e\")\n",
    "e = X * rnorm(n)\n",
    "points( y = e, x = X, col = \"red\")"
   ]
  },
  {
   "cell_type": "markdown",
   "id": "c9acd240",
   "metadata": {},
   "source": [
    "\n",
    "$\\left(y_{i},x_{i}\\right)$ 独立同分布 (independently and identically distributed， 简记为 iid)  并不能得出 $e_i$ 同方差。\n",
    "同方差还是异方差是取决于单次观测中\n",
    "$\\left(x_{i},e_{i}=y_{i}-\\beta x\\right)$ 联合分布的内部关系, \n",
    "然而独立同分布与否取决于样本中不同次观测 $\\left(y_{i},x_{i}\\right)$ 和\n",
    "$\\left(y_{j},x_{j}\\right)$ （$i\\neq j$）之间的关系。\n"
   ]
  },
  {
   "cell_type": "markdown",
   "id": "8698189a",
   "metadata": {},
   "source": [
    "异方差在计量经济学中无处不见。一个能够自然产生条件异方差的例子是 **线性概率模型** $y_{i}=x_{i}'\\beta+e_{i}$ 。$y_{i}\\in\\left\\{ 0,1\\right\\}$ 是一个二元因变量。 把CEF假设为 $E\\left[y_{i}|x_{i}\\right]=x_{i}'\\beta$ ，那么我们可以使用OLS的来估计 $\\beta$ 。\\\n",
    "条件方差为:\n",
    "\n",
    "$$\n",
    "\\mathrm{var}\\left[e_{i}|x_{i}\\right]=\\mathrm{var}\\left[y_{i}|x_{i}\\right]=E\\left[y_{i}|x_{i}\\right]\\left(1-E\\left[y_{i}|x_{i}\\right]\\right)=x_{i}'\\beta\\left(1-x_{i}'\\beta\\right)\n",
    "$$\n",
    "\n",
    "这里的条件方差随着 $x_{i}$ 而发生改变。"
   ]
  },
  {
   "cell_type": "code",
   "execution_count": null,
   "id": "4dcacbcd",
   "metadata": {
    "vscode": {
     "languageId": "r"
    }
   },
   "outputs": [],
   "source": [
    "# feel free to change n and beta0 to see the effect of sample size \n",
    "# and parameter values\n",
    "n = 100\n",
    "beta0 = c(1.0, 1.0, 0.0) "
   ]
  },
  {
   "cell_type": "markdown",
   "id": "282dd590",
   "metadata": {},
   "source": [
    "The sample size is set to be 100, which is moderate for simple regressions. "
   ]
  },
  {
   "cell_type": "code",
   "execution_count": null,
   "id": "06abab75",
   "metadata": {
    "vscode": {
     "languageId": "r"
    }
   },
   "outputs": [],
   "source": [
    "X = cbind(rnorm(n), rpois(n, 3) )\n",
    "e = rlogis(n)\n",
    "\n",
    "y = cbind(1, X ) %*% beta0 + e # generate data"
   ]
  },
  {
   "cell_type": "markdown",
   "id": "dc415264",
   "metadata": {},
   "source": [
    "Generate data"
   ]
  },
  {
   "cell_type": "code",
   "execution_count": null,
   "id": "b073512d",
   "metadata": {
    "vscode": {
     "languageId": "r"
    }
   },
   "outputs": [],
   "source": [
    "reg1 = lm( y ~ X ) # OLS regression\n",
    "summary(reg1)"
   ]
  },
  {
   "cell_type": "code",
   "execution_count": null,
   "id": "7d24ecf7",
   "metadata": {
    "scrolled": true,
    "vscode": {
     "languageId": "r"
    }
   },
   "outputs": [],
   "source": [
    "yhat = predict( reg1, data  = X ) # predicted value from the OLS regression\n",
    "matplot( x = X[,1], y = cbind(y, yhat), pch = 1:2, xlab = \"x\", ylab = \"y\")\n",
    "legend(x = 2, y = -2, pch = 1:2, col = 1:2, legend = c(\"y\", \"predicted\"))"
   ]
  },
  {
   "cell_type": "markdown",
   "id": "743f543a",
   "metadata": {},
   "source": [
    "Change $y$ to be a binary variable"
   ]
  },
  {
   "cell_type": "code",
   "execution_count": null,
   "id": "3ffb1e40",
   "metadata": {
    "vscode": {
     "languageId": "r"
    }
   },
   "outputs": [],
   "source": [
    "y01 = (y >= 0) \n",
    "reg2 = lm( y01 ~ X ) # logistic regression\n",
    "summary(reg2)"
   ]
  },
  {
   "cell_type": "code",
   "execution_count": null,
   "id": "6f790cc5",
   "metadata": {
    "vscode": {
     "languageId": "r"
    }
   },
   "outputs": [],
   "source": [
    "yhat01 = predict( reg2, data  = X )\n",
    "reg3 = glm( y01 ~ X, family=binomial(link='logit') )\n",
    "summary(reg3)"
   ]
  },
  {
   "cell_type": "code",
   "execution_count": null,
   "id": "4bf0ec4e",
   "metadata": {
    "vscode": {
     "languageId": "r"
    }
   },
   "outputs": [],
   "source": [
    "yhat01_logit = predict( reg3, data  = X, type=\"response\" )\n",
    "matplot( x = X[,1], y = cbind(y01, yhat01, yhat01_logit), pch = 1:3, xlab = \"x\", ylab = \"y\" )\n",
    "legend(x = 2, y = .3, pch = 1:3, col = 1:3, legend = c(\"y\", \"linear pred.\", \"logit pred.\"))"
   ]
  },
  {
   "cell_type": "markdown",
   "id": "5f397d39",
   "metadata": {},
   "source": [
    "## Heteroskedasticity\n",
    "\n",
    "Heteroskedasticity can happen even if the observations are iid across $i$. In the following example, $e_i = x_{1i} u_i $ and $x_{1i}$ and $u_i \\sim (0, \\sigma^2 ) $ are independent. The mean independence \n",
    "$$E[e_i|x_i] = x_{1i} E[u_i|x_i] = 0$$ \n",
    "is still satisfied, but \n",
    "$$E[e_i^2 |x_i] = x_{1i}^2 E[u_i^2 |x_i] = x_{1i}^2 \\sigma^2.$$"
   ]
  },
  {
   "cell_type": "markdown",
   "id": "cc2f0e6b",
   "metadata": {},
   "source": [
    "The OLS estimator is still consistent and asymptotically normal, but the asymptotic variance is difference from the case of homoskedasticity."
   ]
  },
  {
   "cell_type": "markdown",
   "id": "413a8324",
   "metadata": {},
   "source": [
    "\n",
    "## 高斯-马尔可夫定理\n",
    "\n",
    "高斯-马尔可夫定理（Gauss-Markov theorem）是关于OLS的有效\n",
    "的定理。 这里的 **有效** 指的是它在所有线性无偏估计量中方差最小。\n",
    "\n",
    "无偏线性估计量五花八门。 比如, $\\left(Z'X\\right)^{-1}Z'y$ (\n",
    "$z_{i}=x_{i}^{2}$) 是无偏的，因为它满足\n",
    "$E\\left[\\left(Z'X\\right)^{-1}Z'y\\right]=E\\left[\\left(Z'X\\right)^{-1}Z'\\left(X\\beta+e\\right)\\right]=\\beta$.\n",
    "我们也已经通过 $E\\left[\\widehat{\\beta}\\right]=\\beta$ 证明了OLS是无偏的。 \n",
    "从无偏性这个角度来讲，它们一样好。\n",
    "我们只能把目光转到第二个特性方差上面：如果一个估计量的方差更小，则认为这个估计量比其他的更好。 \n"
   ]
  },
  {
   "cell_type": "markdown",
   "id": "27c15bdb",
   "metadata": {},
   "source": [
    "```{admonition} Remark\n",
    "\n",
    "对于两个随机变量 $X$ 和 $Y$， 如果其方差之差\n",
    "$\\left(\\Omega_{Y}-\\Omega_{X}\\right)$ 是个半正定矩阵，则称\n",
    "$X$ 的方差小于等于 $Y$ 的方差。\n",
    "我们选择通过这种方式比较是因为对于任意非零常数向量 $c$, $X$的线性组合的方差不大于 $Y$ 的相同线性组合的方差。\n",
    "\n",
    "$$\n",
    "\\mathrm{var}\\left(c'X\\right)=c'\\Omega_{X}c\\leq c'\\Omega_{Y}c=\\mathrm{var}\\left(c'Y\\right)\n",
    "$$\n",
    "\n",
    "```\n"
   ]
  },
  {
   "cell_type": "markdown",
   "id": "61a1148f",
   "metadata": {},
   "source": [
    "\n",
    "令 $\\tilde{\\beta}=A'y$ 为一个线性估计量, 其中 $n\\times K$ 矩阵 $A$ 可以是 $X$ 的某个函数。 \n",
    "有 \n",
    "\n",
    "$$\n",
    "E\\left[A'y|X\\right]=E\\left[A'\\left(X\\beta+e\\right)|X\\right]=A'X\\beta\n",
    "$$\n",
    "\n",
    "$\\tilde{\\beta}$ 的线性和无偏性要求 $A'X=I_{n}$ 的方差满足\n",
    "\n",
    "$$\n",
    "\\mathrm{var}\\left(A'y|X\\right)=E\\left[\\left(A'y-\\beta\\right)\\left(A'y-\\beta\\right)'|X\\right]=E\\left[A'ee'A|X\\right]=\\sigma^{2}A'A.\n",
    "$$\n",
    "\n",
    "令 $C=A-X\\left(X'X\\right)^{-1}.$\n",
    "\n",
    "\n",
    "$$\n",
    "\\begin{aligned}A'A-\\left(X'X\\right)^{-1} & =\\left(C+X\\left(X'X\\right)^{-1}\\right)'\\left(C+X\\left(X'X\\right)^{-1}\\right)-\\left(X'X\\right)^{-1}\\\\\n",
    " & =C'C+\\left(X'X\\right)^{-1}X'C+C'X\\left(X'X\\right)^{-1}\\\\\n",
    " & =C'C,\n",
    "\\end{aligned}\n",
    "$$ \n",
    "\n",
    "其中最后一个等式有:\n",
    "\n",
    "$$\n",
    "\\left(X'X\\right)^{-1}X'C=\\left(X'X\\right)^{-1}X'\\left(A-X\\left(X'X\\right)^{-1}\\right)=\\left(X'X\\right)^{-1}-\\left(X'X\\right)^{-1}=0.\n",
    "$$\n",
    "\n",
    "因此得到 $A'A-\\left(X'X\\right)^{-1}$ 是个半正定矩阵. 任意 $\\tilde{\\beta}$ 的方差都不可能小于OLS估计量的方差 $\\widehat{\\beta}$. 上述推导表明了 OLS在所有的线性无偏估计量中达到了最小方差。\n",
    "\n",
    "同方差是一个严苛的假设。 在同方差假设下,\n",
    "$\\mathrm{var}\\left[\\widehat{\\beta}\\right]=\\sigma^{2}\\left(X'X\\right)^{-1}$.\n",
    "常见的估计量 $\\sigma^{2}$ 是残差的样本均值，即 $\\widehat{\\sigma}^{2}=\\frac{1}{n}\\widehat{e}'\\widehat{e}$ 或者无偏的表达式为 $s^{2}=\\frac{1}{n-K}\\widehat{e}'\\widehat{e}$. 当存在异方差时, 高斯-马尔可夫定理不适用。\n"
   ]
  },
  {
   "cell_type": "markdown",
   "id": "f2fa5d52",
   "metadata": {},
   "source": [
    "\n",
    "## 总结\n",
    "\n",
    "经典的数理统计推导基于误差项正态分布下在精确分布。 高斯-马尔可夫定理成立要基于两个关键的假设：线性的条件期望函数（CEF）和同方差。\n",
    "\n",
    "**This historical note comes from an earlier version**\n",
    "\n",
    "```{admonition}历史趣闻 \n",
    "极大似然估计由 Ronald Fisher (1890–1962) 是频率学派的奠基人。\n",
    "这些研究方法时至今日还占据着主流地位, 同时他尖锐地批评了贝叶斯学派的研究方法. Fisher 在他1936年的生物学研究中，搜集了一个150个样本\n",
    "的鸢尾花数据组，在R软件中输入指令`iris`就能看到相应的展示. 许多在经典数学统计中的概念都是由Fisher发明的，\n",
    "比如充分统计量，辅助统计量，完备性和指数族等等。\n",
    "```\n",
    "\n",
    "``{admonition}拓展阅读\n",
    "@phillips1983exact 总结了计量经济学理论的精确小样本理论结果。 在这之后，计量经济学的理论研究转向了大样本理论。 \n",
    "```\n"
   ]
  },
  {
   "cell_type": "markdown",
   "id": "8b28f4c2",
   "metadata": {},
   "source": [
    "\n",
    "## 附录\n",
    "\n",
    "### 联合正态分布\n",
    "\n",
    "毫无疑问，在统计学推断中最经常遇到的分布就是正态分布，因为他是许多常见的统计量的渐进分布。\n",
    "此外，它有着许多独特的性质使得对于事物的计算大大简便了。在这里总结当中的部分性质。\n",
    "\n",
    "一个 $n\\times1$ 随机变量 $Y$ 遵循一个联合随机变量分布。\n",
    "$N\\left(\\mu,\\Sigma\\right)$, 其中的 $ \\mu $ 是一个 $n\\times 1$ 向量而\n",
    "$\\Sigma$ 则是一个 $n\\times n$ 对称正定矩阵。 概率密度函数是\n",
    "\n",
    "$$\n",
    "f_{y}\\left(y\\right)=\\left(2\\pi\\right)^{-n/2}\\left(\\mathrm{det}\\left(\\Sigma\\right)\\right)^{-1/2}\\exp\\left(-\\frac{1}{2}\\left(y-\\mu\\right)'\\Sigma^{-1}\\left(y-\\mu\\right)\\right)\n",
    "$$\n",
    "\n",
    "其中 $ \\mathrm{det}\\left(\\cdot\\right) $ 是矩阵的行列式。\n",
    "矩量母函数则是：\n",
    "$M_{y}\\left(t\\right)=\\exp\\left(t'\\mu+\\frac{1}{2}t'\\Sigma t\\right)$.\n",
    "\n",
    "我们将在这里讨论一个随机变量的两个组成部分间的关系，为了统一符号: \n",
    "\n",
    "$$\n",
    "Y=\\left(\\begin{array}{c}\n",
    "Y_{1}\\\\\n",
    "Y_{2}\n",
    "\\end{array}\\right)\\sim N\\left(\\left(\\begin{array}{c}\n",
    "\\mu_{1}\\\\\n",
    "\\mu_{2}\n",
    "\\end{array}\\right),\\left(\\begin{array}{cc}\n",
    "\\Sigma_{11} & \\Sigma_{12}\\\\\n",
    "\\Sigma_{21} & \\Sigma_{22}\n",
    "\\end{array}\\right)\\right)\n",
    "$$\n",
    "\n",
    "当中 $Y_{1}$ 是一个 $m\\times 1$ 向量, 而\n",
    "$Y_{2}$ 是一个 $\\left(n-m\\right)\\times1$ 向量. $\\mu_{1}$ 和 $\\mu_{2}$\n",
    "是对应的平均向量。 $\\Sigma_{ij}$, $j=1,2$ 则是相应的方差和协方差矩阵。 从此往下，我们仍然假设： $Y=\\left(Y_{1},Y_{2}\\right)$ 服从联合正态分布。\n",
    "\n",
    "<a href=\"#fact31\" data-reference-type=\"ref\" data-reference=\"fact31\">[fact31]</a>\n",
    "指出了正态分布一个非常方便的性质。 一般来说， 如果我们给定两个随机变量的联合概率密度函数，\n",
    "并且希望得到他们其中一个随机变量的边际分布，我们需要把另一个变量从联合概率密度函数中\n",
    "积分出去. 然而，如果变量符合联合正态，那么另一个变量的信息与我们感兴趣的那个随机变量的边际分布无关. 我们只需要知道我们关心的那一部分的信息，比如平均数 $\\mu_{1}$ 和方差\n",
    "$\\Sigma_{11}$ 来决定 $Y_{1}$ 的边际分布。\n",
    "\n",
    "<span id=\"fact:marginal\"\n",
    "label=\"fact:marginal\">\\[fact:marginal\\]</span>\n",
    "$Y_{1}\\sim N\\left(\\mu_{1},\\Sigma_{11}\\right)$ 的边际分布。\n",
    "\n",
    "如果我们对于估计量的一些组成部分感兴趣的话，那么这个结论非常方便, 但它不能帮助我们搞懂估计量的完整向量。 例如,\n",
    "线性回归模型的OLS估计量\n",
    "$y_{i}=x_{i}'\\beta+e_{i}$, 如果满足以下经典假设 (i) 样本随机; (ii) $z_{i}$ 和 $e_{i}$ 独立; (iii)\n",
    "$e_{i}\\sim N\\left(0,\\gamma\\right)$ ，那么会有\n",
    "\n",
    "$$\n",
    "\\widehat{\\beta}=\\left(X'X\\right)^{-1}X'y\n",
    "$$ \n",
    "\n",
    "以及 $\\widehat{\\beta}$ 的有限样本精确分布\n",
    "\n",
    "$$\n",
    "\\left(\\widehat{\\beta}-\\beta\\right)|X\\sim N\\left(0,\\gamma\\left(X'X\\right)^{-1}\\right)\n",
    "$$\n",
    "\n",
    "如果我们只是对于\n",
    "$\\beta_{0}^{\\left(j\\right)}$ 的j阶组件的推断感兴趣, 那么根据\n",
    "<a href=\"#fact:marginal\" data-reference-type=\"ref\" data-reference=\"fact:marginal\">[fact:marginal]</a>,\n",
    "\n",
    "$$\n",
    "\\left(\\widehat{\\beta}_{k}-\\beta_{k}\\right)/\\left(X'X\\right)_{kk}^{-1}\\sim N\\left(0,\\gamma\\right)\n",
    "$$\n",
    "\n",
    "其中的 $\\left[\\left(X'X\\right)^{-1}\\right]_{kk}$ 是 $\\left(X'X\\right)^{-1}$ 的 $k$ 阶对角线元素。边际分布是独立于\n",
    "其他的组成部分的。这使得我们不同将其他的组成部分积分出去. 如果向量的维度很高的话，这样的积分还会给我们带来不少的麻烦。\n",
    "\n",
    "总结来看, 两个随机变量的协方差为0只能表明他们是不相关的，然而统计上完全独立则要求更高。 \n",
    "但是, 如果 $Y_{1}$ 和 $Y_{2}$ 服从联合正态分布, 在这种情况下协方差为0就可以等同于完全独立。\n",
    "\n",
    "如果 $\\Sigma_{12}=0$, 那么 $Y_{1}$ 和 $Y_{2}$ 相互独立。\n",
    "\n",
    "如果 $\\Sigma$ 是可逆的, 那么\n",
    "$Y'\\Sigma^{-1}Y\\sim\\chi^{2}\\left(\\mathrm{rank}\\left(\\Sigma\\right)\\right)$.\n",
    "\n",
    "最后的一个结论在线性回归中十分有用。 如果\n",
    "$Y_{1}$ 和 $Y_{2}$ 服从联合正态分布, 那么$Y_{1}$ 基于 $Y_{2}$ 的条件分布依然是联合正态分布。\n",
    "\n",
    "它们的均值和方差满足：\n",
    "$Y_{1}|Y_{2}\\sim N\\left(\\mu_{1}+\\Sigma_{12}\\Sigma_{22}^{-1}\\left(Y_{2}-\\mu_{2}\\right),\\Sigma_{11}-\\Sigma_{12}\\Sigma_{22}^{-1}\\Sigma_{21}\\right)$.\n"
   ]
  }
 ],
 "metadata": {
  "kernelspec": {
   "display_name": "R",
   "language": "R",
   "name": "ir"
  },
  "language_info": {
   "codemirror_mode": {
    "name": "ipython",
    "version": 3
   },
   "file_extension": ".py",
   "mimetype": "text/x-python",
   "name": "R",
   "nbconvert_exporter": "python",
   "pygments_lexer": "ipython3",
   "version": "3.9.12"
  }
 },
 "nbformat": 4,
 "nbformat_minor": 5
}
