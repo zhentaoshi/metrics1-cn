{
 "cells": [
  {
   "cell_type": "markdown",
   "metadata": {},
   "source": [
    "# 数据实例2\n",
    "\n",
    "2008年金融危机之后，世界经济面临严重的经济困境，这重新激发了人们了解银行业危机后果的兴趣。 \n",
    "Baron等(2020)将银行业危机的概念定义为银行业的中介资金能力严重受损。由于银行危机损害了银行的中介能力，所以股权持有人将首先遭受损失，银行股本将大幅下跌。\n",
    "而银行股票大幅下跌是否与不利的宏观经济后果有关？\n",
    "\n",
    "为了研究银行股票回报率是否具有对未来宏观经济的预测能力，Baron等(2020)收集并构建了1870-2016年期间跨越46个国家的面板数据，包括银行股票回报率和实际GDP。为了检查整个回报分布的可预测性，Baron等(2020)将银行股票回报率分成了八个均匀分布的区间：小于-45%、-45%到-30%、-30%到-15%、-15%到0%、0%到15%、15%到30%、30%到45%和大于45%。其中，0%到15%的银行股票回报率被认为是“正常”时期的回报，将在回归中省略，所以面板回归方程中只包含7个区间。\n",
    "\n",
    "在面板回归中，采用$i$国第$t$年到第$t+1$年的实际GDP对数增长率作为因变量（$\\Delta y_{i,t+1}$)，$i$国第$t$年的银行股票回报率（$r_{i,t}$）落入7个回报区间的7个指标变量作为自变量（$\\mathbb{I} [r_{i,t} \\in B_j] (j=1,...,7)$），并且将$i$国第$t-1$年到第$t$年的实际GDP对数增长率作为控制变量（$\\Delta y_{i,t}$)。线性回归方程如下：\n",
    "\n",
    "$$\n",
    "\\Delta y_{i,t+1}=\\alpha _i+\\sum_{j} \\beta _{j} \\mathbb{I} [r_{i,t} \\in B_j] +\\gamma \\Delta y_{i,t} +\\epsilon _{i,t}\n",
    "$$"
   ]
  },
  {
   "cell_type": "markdown",
   "metadata": {},
   "source": [
    "下面运用R进行固定效应回归。"
   ]
  },
  {
   "cell_type": "code",
   "execution_count": null,
   "metadata": {
    "vscode": {
     "languageId": "r"
    }
   },
   "outputs": [],
   "source": [
    "library(plm)\n",
    "data <- read.csv(\"real_data_2.csv\")\n",
    "attach(data)\n",
    "Y <- cbind(Fd1y)\n",
    "X <- cbind(B1_R_B, B2_R_B, B3_R_B, B4_R_B, B6_R_B, B7_R_B, B8_R_B)\n",
    "c <- cbind(L0g0y)\n",
    "#声明面板\n",
    "pdata <- pdata.frame(data, index = c(\"country\",\"year\"))\n",
    "#固定效应\n",
    "fixed <- plm(Y ~ X + c,data = pdata,model = \"within\") \n",
    "summary(fixed)"
   ]
  },
  {
   "cell_type": "markdown",
   "metadata": {},
   "source": [
    "从固定效应的估计结果可以看出，银行股票的下跌预示着未来实际GDP将大幅持续下降。例如，相对于“正常时期”（0%至15%的回报率），银行股票跌幅超过45%预示着一年后产出将下降5%。"
   ]
  }
 ],
 "metadata": {
  "kernelspec": {
   "display_name": "R",
   "language": "R",
   "name": "ir"
  },
  "language_info": {
   "codemirror_mode": "r",
   "file_extension": ".r",
   "mimetype": "text/x-r-source",
   "name": "R",
   "pygments_lexer": "r",
   "version": "4.2.1"
  },
  "orig_nbformat": 4,
  "vscode": {
   "interpreter": {
    "hash": "b09ec625f77bf4fd762565a912b97636504ad6ec901eb2d0f4cf5a7de23e1ee5"
   }
  }
 },
 "nbformat": 4,
 "nbformat_minor": 2
}
